{
 "cells": [
  {
   "cell_type": "code",
   "execution_count": 1,
   "metadata": {},
   "outputs": [],
   "source": [
    "import os\n",
    "import numpy as np\n",
    "import torch\n",
    "from tqdm import tqdm\n",
    "import torch.nn as nn\n",
    "import torch.utils.data as data_utils\n",
    "import wandb\n",
    "import custom_loaders\n",
    "import conv_layers"
   ]
  },
  {
   "cell_type": "code",
   "execution_count": 2,
   "metadata": {},
   "outputs": [],
   "source": [
    "latent_len = 100\n",
    "img_size = 64\n",
    "n_channels = 3\n",
    "device = \"cuda\" if torch.cuda.is_available() else \"cpu\"\n",
    "channelsG = [latent_len, 256, 128, 128,64, 32, n_channels]\n",
    "channelsD = [n_channels, 32, 64, 128, 128,256, 1]\n",
    "label_flip = 0\n",
    "add_noise = 0\n",
    "\n",
    "G_lr = 0.0002\n",
    "D_lr = 0.0002\n",
    "epochs = 20\n",
    "D_epochs = 1\n",
    "\n",
    "\n",
    "assert(len(channelsD) == len(channelsG))\n",
    "assert(img_size == 2**(len(channelsD) - 1))"
   ]
  },
  {
   "cell_type": "code",
   "execution_count": 3,
   "metadata": {},
   "outputs": [
    {
     "name": "stdout",
     "output_type": "stream",
     "text": [
      "Loading data...\n"
     ]
    },
    {
     "name": "stderr",
     "output_type": "stream",
     "text": [
      "100%|██████████| 202599/202599 [04:31<00:00, 746.98it/s]\n"
     ]
    }
   ],
   "source": [
    "class Args():\n",
    "    def __init__(self):\n",
    "        self.dataset = 'GAN'\n",
    "        # self.imagePath = '/root/data/data/JSRT/Images'\n",
    "        self.imagePath = '/root/celeba/img_align_celeba/'\n",
    "        self.image_size = img_size\n",
    "        self.download = False\n",
    "        self.imgC = n_channels\n",
    "        self.num_images = None\n",
    "\n",
    "args = Args()\n",
    "print(\"Loading data...\")\n",
    "train_dataset = custom_loaders.get_data_loader(args)"
   ]
  },
  {
   "cell_type": "code",
   "execution_count": 7,
   "metadata": {},
   "outputs": [],
   "source": [
    "bs = 32\n",
    "train_loader = data_utils.DataLoader(train_dataset, batch_size=bs, shuffle=True)\n",
    "\n",
    "G = conv_layers.GeneratorTrans(channelsG).to(device)\n",
    "D = conv_layers.Discriminator(channelsD).to(device)\n",
    "# G = conv_layers.GeneratorUpSample(channelsG).to(device)\n",
    "\n",
    "criterion = nn.BCELoss()\n",
    "optimizerG = torch.optim.Adam(G.parameters(), lr=G_lr, betas=(0.5, 0.999))\n",
    "optimizerD = torch.optim.Adam(D.parameters(), lr=D_lr, betas=(0.5, 0.999))\n",
    "fixed_noise = torch.rand(bs,latent_len,1,1).to(device)"
   ]
  },
  {
   "cell_type": "code",
   "execution_count": 8,
   "metadata": {},
   "outputs": [
    {
     "data": {
      "text/html": [
       "Finishing last run (ID:k53cxpnz) before initializing another..."
      ],
      "text/plain": [
       "<IPython.core.display.HTML object>"
      ]
     },
     "metadata": {},
     "output_type": "display_data"
    },
    {
     "data": {
      "text/html": [
       "Waiting for W&B process to finish... <strong style=\"color:green\">(success).</strong>"
      ],
      "text/plain": [
       "<IPython.core.display.HTML object>"
      ]
     },
     "metadata": {},
     "output_type": "display_data"
    },
    {
     "data": {
      "text/html": [
       "<style>\n",
       "    table.wandb td:nth-child(1) { padding: 0 10px; text-align: left ; width: auto;} td:nth-child(2) {text-align: left ; width: 100%}\n",
       "    .wandb-row { display: flex; flex-direction: row; flex-wrap: wrap; justify-content: flex-start; width: 100% }\n",
       "    .wandb-col { display: flex; flex-direction: column; flex-basis: 100%; flex: 1; padding: 10px; }\n",
       "    </style>\n",
       "<div class=\"wandb-row\"><div class=\"wandb-col\"><h3>Run history:</h3><br/><table class=\"wandb\"><tr><td>lossD</td><td>▄▃▁▂▂█▅▄▇▅▆▆▆▆███▇▆█▆▇▆▇▇▅▆▆▆▆▅▆▅▅▅▆▅▅▆▅</td></tr><tr><td>lossD_Fake</td><td>▅▃▁▁▂▇▅▄▇▅▆▆▆▇███▇▆█▆▇▆█▆▅▆▆▆▆▅▆▅▅▆▆▅▅▆▅</td></tr><tr><td>lossD_Real</td><td>▂▂▁▂▂█▄▄▆▅▅▅▆▆▇▇▇▆▅▇▆▇▆▇▆▅▅▅▅▅▅▅▅▄▅▅▅▅▅▅</td></tr><tr><td>lossG</td><td>▂▃▄█▃▃▂▄▂▃▂▂▄▂▁▂▃▃▃▁▁▁▂▂▂▃▁▂▃▂▂▂▃▄▃▂▂▂▅▂</td></tr></table><br/></div><div class=\"wandb-col\"><h3>Run summary:</h3><br/><table class=\"wandb\"><tr><td>lossD</td><td>54.01819</td></tr><tr><td>lossD_Fake</td><td>24.67147</td></tr><tr><td>lossD_Real</td><td>29.34672</td></tr><tr><td>lossG</td><td>2.78968</td></tr></table><br/></div></div>"
      ],
      "text/plain": [
       "<IPython.core.display.HTML object>"
      ]
     },
     "metadata": {},
     "output_type": "display_data"
    },
    {
     "data": {
      "text/html": [
       " View run <strong style=\"color:#cdcd00\">morning-morning-20</strong> at: <a href=\"https://wandb.ai/basujindal123/pytorch-gan-celeba/runs/k53cxpnz\" target=\"_blank\">https://wandb.ai/basujindal123/pytorch-gan-celeba/runs/k53cxpnz</a><br/>Synced 6 W&B file(s), 1920 media file(s), 0 artifact file(s) and 0 other file(s)"
      ],
      "text/plain": [
       "<IPython.core.display.HTML object>"
      ]
     },
     "metadata": {},
     "output_type": "display_data"
    },
    {
     "data": {
      "text/html": [
       "Find logs at: <code>./wandb/run-20230415_002153-k53cxpnz/logs</code>"
      ],
      "text/plain": [
       "<IPython.core.display.HTML object>"
      ]
     },
     "metadata": {},
     "output_type": "display_data"
    },
    {
     "data": {
      "text/html": [
       "Successfully finished last run (ID:k53cxpnz). Initializing new run:<br/>"
      ],
      "text/plain": [
       "<IPython.core.display.HTML object>"
      ]
     },
     "metadata": {},
     "output_type": "display_data"
    },
    {
     "data": {
      "text/html": [
       "wandb version 0.14.2 is available!  To upgrade, please run:\n",
       " $ pip install wandb --upgrade"
      ],
      "text/plain": [
       "<IPython.core.display.HTML object>"
      ]
     },
     "metadata": {},
     "output_type": "display_data"
    },
    {
     "data": {
      "text/html": [
       "Tracking run with wandb version 0.13.9"
      ],
      "text/plain": [
       "<IPython.core.display.HTML object>"
      ]
     },
     "metadata": {},
     "output_type": "display_data"
    },
    {
     "data": {
      "text/html": [
       "Run data is saved locally in <code>/root/data/DeepLearningExamples/CV/wandb/run-20230415_002828-ff120plu</code>"
      ],
      "text/plain": [
       "<IPython.core.display.HTML object>"
      ]
     },
     "metadata": {},
     "output_type": "display_data"
    },
    {
     "data": {
      "text/html": [
       "Syncing run <strong><a href=\"https://wandb.ai/basujindal123/pytorch-gan-celeba/runs/ff120plu\" target=\"_blank\">dazzling-sponge-21</a></strong> to <a href=\"https://wandb.ai/basujindal123/pytorch-gan-celeba\" target=\"_blank\">Weights & Biases</a> (<a href=\"https://wandb.me/run\" target=\"_blank\">docs</a>)<br/>"
      ],
      "text/plain": [
       "<IPython.core.display.HTML object>"
      ]
     },
     "metadata": {},
     "output_type": "display_data"
    },
    {
     "data": {
      "text/html": [
       " View project at <a href=\"https://wandb.ai/basujindal123/pytorch-gan-celeba\" target=\"_blank\">https://wandb.ai/basujindal123/pytorch-gan-celeba</a>"
      ],
      "text/plain": [
       "<IPython.core.display.HTML object>"
      ]
     },
     "metadata": {},
     "output_type": "display_data"
    },
    {
     "data": {
      "text/html": [
       " View run at <a href=\"https://wandb.ai/basujindal123/pytorch-gan-celeba/runs/ff120plu\" target=\"_blank\">https://wandb.ai/basujindal123/pytorch-gan-celeba/runs/ff120plu</a>"
      ],
      "text/plain": [
       "<IPython.core.display.HTML object>"
      ]
     },
     "metadata": {},
     "output_type": "display_data"
    },
    {
     "data": {
      "text/html": [
       "<button onClick=\"this.nextSibling.style.display='block';this.style.display='none';\">Display W&B run</button><iframe src=\"https://wandb.ai/basujindal123/pytorch-gan-celeba/runs/ff120plu?jupyter=true\" style=\"border:none;width:100%;height:420px;display:none;\"></iframe>"
      ],
      "text/plain": [
       "<wandb.sdk.wandb_run.Run at 0x7f08abdc52b0>"
      ]
     },
     "execution_count": 8,
     "metadata": {},
     "output_type": "execute_result"
    }
   ],
   "source": [
    "config={\"epochs\": epochs, \"batch_size\": bs,\n",
    "         \"D_epochs\": D_epochs, \"D_lr\": D_lr, \"G_lr\": G_lr,\n",
    "           \"img_size\": img_size, \"n_channels\": n_channels,\n",
    "           \"latent_len\": latent_len}\n",
    "\n",
    "wandb.init(project='pytorch-gan-celeba', entity='basujindal123', config=config)"
   ]
  },
  {
   "cell_type": "code",
   "execution_count": 9,
   "metadata": {},
   "outputs": [
    {
     "name": "stderr",
     "output_type": "stream",
     "text": [
      "100%|██████████| 6332/6332 [03:12<00:00, 32.87it/s]\n",
      "100%|██████████| 6332/6332 [03:12<00:00, 32.97it/s]\n",
      "100%|██████████| 6332/6332 [03:10<00:00, 33.32it/s]\n",
      "100%|██████████| 6332/6332 [03:09<00:00, 33.33it/s]\n",
      "100%|██████████| 6332/6332 [03:09<00:00, 33.43it/s]\n",
      "  3%|▎         | 162/6332 [00:04<03:08, 32.71it/s]"
     ]
    }
   ],
   "source": [
    "log_iter = 200\n",
    "log = True\n",
    "\n",
    "lossD_Real = 0\n",
    "lossD_Fake = 0\n",
    "lossG = 0\n",
    "iter = 0\n",
    "\n",
    "\n",
    "for i in (range(epochs)):\n",
    "    for data in tqdm(train_loader):        \n",
    "        real_imgs = data.to(device)\n",
    "\n",
    "        iter+=1\n",
    "        # Training Discriminator\n",
    "        D.zero_grad()\n",
    "\n",
    "        with torch.no_grad():\n",
    "            z = torch.rand(bs,latent_len,1,1).to(device)\n",
    "            fake_imgs = G(z)\n",
    "\n",
    "        output = D(fake_imgs).flatten()\n",
    "\n",
    "        label_val = 0\n",
    "        ## randomly flip labels\n",
    "        if label_flip and np.random.random() > 0.95:\n",
    "            label_val = 1\n",
    "\n",
    "        fake_labels = np.array([label_val]*output.shape[0])\n",
    "        \n",
    "        if add_noise:\n",
    "            fake_labels = fake_labels + np.random.normal(0,0.05,fake_labels.shape[0])\n",
    "        labels = torch.tensor(fake_labels).float().to(device)\n",
    "        lossF = criterion(output, labels)\n",
    "        lossF.backward()\n",
    "\n",
    "        real_imgs = real_imgs.to(device)\n",
    "        output = D(real_imgs).flatten()\n",
    "\n",
    "        label_val = 1\n",
    "        ## randomly flip labels\n",
    "        if label_flip and np.random.random() > 0.95:\n",
    "            label_val = 0\n",
    "            \n",
    "        real_labels = np.array([label_val]*output.shape[0])\n",
    "        \n",
    "        if add_noise:\n",
    "            real_labels = real_labels + np.random.normal(0,0.05,real_labels.shape[0])\n",
    "        labels = torch.tensor(real_labels).float().to(device)\n",
    "        lossR = criterion(output, labels)\n",
    "        lossR.backward()\n",
    "\n",
    "\n",
    "        lossD = lossR + lossF\n",
    "        optimizerD.step()\n",
    "\n",
    "        lossD_Real+=lossR.item()\n",
    "        lossD_Fake+=lossF.item()\n",
    "\n",
    "        # if((iter+1)%D_epochs == 0):\n",
    "        if 1:\n",
    "            ## Training Generator\n",
    "            G.train()\n",
    "            optimizerG.zero_grad()\n",
    "            optimizerD.zero_grad()\n",
    "            z = torch.rand(bs,latent_len,1,1).to(device)\n",
    "            fake_imgs = G(z)\n",
    "            output = D(fake_imgs).flatten()\n",
    "\n",
    "            label = torch.tensor([1]*output.shape[0]).float().to(device)\n",
    "            lossG = criterion(output, label)\n",
    "            lossG.backward()\n",
    "            optimizerG.step()\n",
    "            lossG = lossG.item()\n",
    "\n",
    "\n",
    "        if((iter+1)%log_iter == 0 and log==True):\n",
    "\n",
    "            G.eval()\n",
    "            with torch.no_grad():\n",
    "                fixed_fake_imgs = G(fixed_noise[:16]).detach()\n",
    "\n",
    "            wandb.log({\n",
    "                'lossG': lossG,\n",
    "                'lossD_Real': lossD_Real,\n",
    "                'lossD_Fake': lossD_Fake,\n",
    "                'lossD': lossD_Real + lossD_Fake,\n",
    "                'Fake Images': [wandb.Image(i) for i in fixed_fake_imgs],\n",
    "                'Real Images' : [wandb.Image(i) for i in real_imgs[:16].detach()]\n",
    "                })\n",
    "            \n",
    "            lossD_Real = 0\n",
    "            lossD_Fake = 0"
   ]
  },
  {
   "cell_type": "code",
   "execution_count": null,
   "metadata": {},
   "outputs": [],
   "source": [
    "channelsDown = [n_channels, 64, 128, 128, 128, 256, latent_len]\n",
    "channelsUp = [latent_len, 256, 128, 128, 128, 64 ,n_channels]\n",
    "\n",
    "\n",
    "class UNet(nn.Module):\n",
    "\n",
    "    def __init__(self, channels, kernelSizeUp=3, kernelSizeDown=4):\n",
    "        super().__init__()\n",
    "\n",
    "\n",
    "        self.dis = nn.ModuleList([DownConv2d(channels[i], channels[i+1], kernelSize=4) for i in range(len(channels) - 2)])\n",
    "        self.out = nn.Conv2d(in_channels=channels[-2], out_channels=channels[-1], kernel_size=kernelSizeDown)\n",
    "\n",
    "        \n",
    "        self.gen = nn.ModuleList([UpSampleConv(channels[i], channels[i+1], kernelSize=3) for i in range(len(channels) - 2)])\n",
    "        self.upSample = nn.Upsample(scale_factor=2, mode='nearest') \n",
    "        self.output = nn.Conv2d(channels[-2], channels[-1], kernel_size=kernelSizeUp, padding = (kernelSizeUp-1)//2)\n",
    "        \n",
    "\n",
    "\n",
    "    def forward(self, image):\n",
    "\n",
    "        li = []\n",
    "        for block in self.dis:\n",
    "            image = block(image)\n",
    "            li.append(image)\n",
    "        self.out(image)\n",
    "\n",
    "            \n",
    "        for block in self.gen:\n",
    "            image = block(self.upSample(image))\n",
    "            print(image.shape)\n",
    "\n",
    "        output = torch.tanh(self.output(self.upSample(image)))\n",
    "        return output\n",
    "\n",
    "        return self.out(image)"
   ]
  },
  {
   "cell_type": "code",
   "execution_count": null,
   "metadata": {},
   "outputs": [],
   "source": [
    "# UNet Architecture\n",
    "class UNet(nn.Module):\n",
    "    def __init__(self):\n",
    "        super(UNet, self).__init__()\n",
    "        self.conv1 = nn.Conv2d(3,64, 3)\n",
    "        self.conv2 = nn.Conv2d(64, 64, 3)\n",
    "        self.bn1 = nn.BatchNorm2d(64)\n",
    "        self.bn2 = nn.BatchNorm2d(64)\n",
    "        self.pool1 = nn.MaxPool2d(2, 2)\n",
    "\n",
    "        self.conv3 = nn.Conv2d(64, 128, 3)\n",
    "        self.conv4 = nn.Conv2d(128, 128, 3)\n",
    "        self.bn3 = nn.BatchNorm2d(128)\n",
    "        self.bn4 = nn.BatchNorm2d(128)\n",
    "        self.pool2 = nn.MaxPool2d(2, 2)\n",
    "\n",
    "        self.conv5 = nn.Conv2d(128, 256, 3)\n",
    "        self.conv6 = nn.Conv2d(256, 256, 3)\n",
    "        self.bn5 = nn.BatchNorm2d(256)\n",
    "        self.bn6 = nn.BatchNorm2d(256)\n",
    "        self.pool3 = nn.MaxPool2d(2,2)\n",
    "\n",
    "        self.conv7 = nn.Conv2d(256, 512, 3)\n",
    "        self.conv8 = nn.Conv2d(512, 512, 3)\n",
    "        self.bn7 = nn.BatchNorm2d(512)\n",
    "        self.bn8 = nn.BatchNorm2d(512)\n",
    "        self.upconv1 = nn.ConvTranspose2d(512,256,2, stride = 2)\n",
    "\n",
    "        self.conv9 = nn.Conv2d(512, 256, 3)\n",
    "        self.conv10 = nn.Conv2d(256, 256, 3)\n",
    "        self.bn9 = nn.BatchNorm2d(256)\n",
    "        self.bn10 = nn.BatchNorm2d(256)\n",
    "        self.upconv2 = nn.ConvTranspose2d(256,128,2, stride = 2)\n",
    "\n",
    "        self.conv11 = nn.Conv2d(256, 128, 3)\n",
    "        self.conv12 = nn.Conv2d(128, 128, 3)\n",
    "        self.bn11 = nn.BatchNorm2d(128)\n",
    "        self.bn12 = nn.BatchNorm2d(128)\n",
    "        self.upconv3 = nn.ConvTranspose2d(128,64,2, stride = 2)\n",
    "\n",
    "        self.conv13 = nn.Conv2d(128, 64, 3)\n",
    "        self.conv14 = nn.Conv2d(64, 64, 3)\n",
    "        self.conv15 = nn.Conv2d(64, 1, 1)\n",
    "        self.bn13 = nn.BatchNorm2d(64)\n",
    "        self.bn14 = nn.BatchNorm2d(64)\n",
    "\n",
    "\n",
    "    def forward(self, x):\n",
    "        x = F.relu(self.bn1(self.conv1(x)))\n",
    "        x1 = F.relu(self.bn2(self.conv2(x)))\n",
    "        x = self.pool1(x1)\n",
    "\n",
    "        x = F.relu(self.bn3(self.conv3(x)))\n",
    "        x2 = F.relu(self.bn4(self.conv4(x)))\n",
    "        x = self.pool2(x2)\n",
    "\n",
    "        x = F.relu(self.bn5(self.conv5(x)))\n",
    "        x3 = F.relu(self.bn6(self.conv6(x)))\n",
    "        x = self.pool3(x3)\n",
    "\n",
    "        x = F.relu(self.bn7(self.conv7(x)))\n",
    "        x = F.relu(self.bn8(self.conv8(x)))\n",
    "        x = self.upconv1(x)\n",
    "\n",
    "        lpad = (x3.shape[2] - x.shape[2])//2\n",
    "        tpad = (x3.shape[3] - x.shape[3])//2\n",
    "        x = torch.cat((x3[:, :,lpad:-lpad, tpad:-tpad],x), 1)\n",
    "        x = self.bn9(F.relu(self.conv9(x)))\n",
    "        x = self.bn10(F.relu(self.conv10(x)))\n",
    "        x = self.upconv2(x)\n",
    "\n",
    "        lpad = (x2.shape[2] - x.shape[2])//2\n",
    "        tpad = (x2.shape[3] - x.shape[3])//2\n",
    "        x = torch.cat((x2[:, :,lpad:-lpad, tpad:-tpad],x), 1)\n",
    "        x = self.bn11(F.relu(self.conv11(x)))\n",
    "        x = self.bn12(F.relu(self.conv12(x)))\n",
    "        x = self.upconv3(x)\n",
    "\n",
    "\n",
    "        lpad = (x1.shape[2] - x.shape[2])//2\n",
    "        tpad = (x1.shape[3] - x.shape[3])//2\n",
    "        x = torch.cat((x1[:, :,lpad:-lpad, tpad:-tpad],x), 1)\n",
    "        x = self.bn13(F.relu(self.conv13(x)))\n",
    "        x = self.bn14(F.relu(self.conv14(x)))\n",
    "        x = self.conv15(x)\n",
    "        x = x[:,:,2:-2,2:-2]\n",
    "\n",
    "        return x.squeeze(1)"
   ]
  },
  {
   "cell_type": "code",
   "execution_count": null,
   "metadata": {},
   "outputs": [],
   "source": [
    "## MNIST\n",
    "\n",
    "trans = transforms.Compose([transforms.ToTensor(),\n",
    "        # transforms.Normalize((0.5, ), (0.5, )),\n",
    "    ])\n",
    "train_dataset = torchvision.datasets.MNIST(root=\"datasets\", train=True, download=True, transform=trans)\n",
    "test_dataset = torchvision.datasets.MNIST(root=\"datasets\", train=False,download=True, transform=trans)\n",
    "plt.imshow((test_dataset.data.float()[0]/255).numpy())"
   ]
  }
 ],
 "metadata": {
  "kernelspec": {
   "display_name": "myenv",
   "language": "python",
   "name": "python3"
  },
  "language_info": {
   "codemirror_mode": {
    "name": "ipython",
    "version": 3
   },
   "file_extension": ".py",
   "mimetype": "text/x-python",
   "name": "python",
   "nbconvert_exporter": "python",
   "pygments_lexer": "ipython3",
   "version": "3.8.13"
  },
  "orig_nbformat": 4,
  "vscode": {
   "interpreter": {
    "hash": "9564eaee7b2d18fff668db0d56d5be435fa415a0b75ee906b58019918c1dc466"
   }
  }
 },
 "nbformat": 4,
 "nbformat_minor": 2
}
