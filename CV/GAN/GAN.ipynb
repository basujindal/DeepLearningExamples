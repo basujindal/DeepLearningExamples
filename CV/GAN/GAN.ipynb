{
  "cells": [
    {
      "cell_type": "code",
      "execution_count": null,
      "metadata": {
        "colab": {
          "base_uri": "https://localhost:8080/"
        },
        "id": "MgLSKZxP0qfz",
        "outputId": "391118db-33f7-4059-9f05-f246d39ba5b4"
      },
      "outputs": [],
      "source": [
        "### For google colab\n",
        "\n",
        "# !pip install wandb\n",
        "# !wget https://huggingface.co/datasets/student/celebA/resolve/main/Dataset.zip?download=true\n",
        "# !unzip -q /content/Dataset.zip?download=true"
      ]
    },
    {
      "cell_type": "code",
      "execution_count": 4,
      "metadata": {
        "id": "1YtOnVAl0Xcr"
      },
      "outputs": [],
      "source": [
        "import os\n",
        "import numpy as np\n",
        "import torch\n",
        "from tqdm import tqdm\n",
        "import torch.nn as nn\n",
        "import torch.utils.data as data_utils\n",
        "import wandb\n",
        "import sys\n",
        "sys.path.append(os.path.dirname(os.path.dirname(os.path.abspath(\"__file__\"))))\n",
        "import custom_loaders\n",
        "from conv_layers import UpTranspose2d, DownConv2d, UpTranspose2d, UpSampleConv"
      ]
    },
    {
      "cell_type": "code",
      "execution_count": null,
      "metadata": {},
      "outputs": [],
      "source": [
        "class GeneratorTrans(nn.Module):\n",
        "\n",
        "    def __init__(self, channels, kernelSize=4):\n",
        "        super().__init__()\n",
        "\n",
        "        self.gen = nn.ModuleList([UpTranspose2d(channels[i], channels[i+1], kernelSize) for i in range(len(channels) - 2)])\n",
        "        self.output = nn.ConvTranspose2d(channels[-2], channels[-1], kernel_size=kernelSize, stride = 2, padding=(kernelSize//2 - 1))\n",
        "\n",
        "    def forward(self, image):\n",
        "            \n",
        "        for block in self.gen:\n",
        "            image = block(image)\n",
        "    \n",
        "        output = torch.tanh(self.output(image))\n",
        "        return output\n",
        "\n",
        "class GeneratorUpSample(nn.Module):\n",
        "\n",
        "    def __init__(self, channels, kernelSize=3):\n",
        "        super().__init__()\n",
        "\n",
        "        self.gen = nn.ModuleList([UpSampleConv(channels[i], channels[i+1], kernelSize) for i in range(len(channels) - 2)])\n",
        "        self.upSample = nn.Upsample(scale_factor=2, mode='nearest') \n",
        "        self.output = nn.Conv2d(channels[-2], channels[-1], kernel_size=kernelSize, padding = (kernelSize-1)//2)\n",
        "\n",
        "\n",
        "    def forward(self, image):\n",
        "\n",
        "        for block in self.gen:\n",
        "            image = block(self.upSample(image))\n",
        "\n",
        "        output = torch.tanh(self.output(self.upSample(image)))\n",
        "        return output\n",
        "    \n",
        "class Discriminator(nn.Module):\n",
        "    \n",
        "    ## Don't use sigmoid in the last layer of the discriminator, use BCEWithLogitsLoss instead of BCELoss.\n",
        "    ## https://gregorygundersen.com/blog/2020/02/09/log-sum-exp/\n",
        "    \n",
        "    def __init__(self, channels, kernelSize=4):\n",
        "        super().__init__()\n",
        "\n",
        "        self.dis = nn.ModuleList([DownConv2d(channels[i], channels[i+1], kernelSize) for i in range(len(channels) - 2)])\n",
        "        self.out = nn.Conv2d(in_channels=channels[-2], out_channels=channels[-1], kernel_size=kernelSize, stride = 2, padding = kernelSize//2 - 1)\n",
        "\n",
        "    def forward(self, image):\n",
        "        \n",
        "        for block in self.dis:\n",
        "            image = block(image)\n",
        "        \n",
        "        output = self.sig(self.out(image))\n",
        "        return output"
      ]
    },
    {
      "cell_type": "code",
      "execution_count": 5,
      "metadata": {
        "id": "7L_lY2s70Xct"
      },
      "outputs": [],
      "source": [
        "latent_len = 100\n",
        "img_size = 64\n",
        "n_channels = 3\n",
        "device = \"cuda\" if torch.cuda.is_available() else \"cpu\"\n",
        "channelsG = [latent_len, 256, 128, 128,64, 32, n_channels]\n",
        "channelsD = [n_channels, 32, 64, 128, 128,256, 1]\n",
        "label_flip = 0\n",
        "add_noise = 0\n",
        "\n",
        "G_lr = 0.0002\n",
        "D_lr = 0.0002\n",
        "epochs = 20\n",
        "D_epochs = 1\n",
        "\n",
        "\n",
        "assert(len(channelsD) == len(channelsG))\n",
        "assert(img_size == 2**(len(channelsD) - 1))"
      ]
    },
    {
      "cell_type": "code",
      "execution_count": 6,
      "metadata": {
        "colab": {
          "base_uri": "https://localhost:8080/"
        },
        "id": "RWU0-OD90Xcu",
        "outputId": "75ebe8f1-0f03-4660-8ce1-1d1a2c140b16"
      },
      "outputs": [
        {
          "name": "stdout",
          "output_type": "stream",
          "text": [
            "Loading data...\n"
          ]
        },
        {
          "name": "stderr",
          "output_type": "stream",
          "text": [
            "100%|██████████| 20000/20000 [00:30<00:00, 660.25it/s]\n"
          ]
        }
      ],
      "source": [
        "class Args():\n",
        "    def __init__(self):\n",
        "        self.dataset = 'GAN'\n",
        "        self.imagePath = '/content/Dataset/CelebA_train/img_align_celeba'\n",
        "        self.image_size = img_size\n",
        "        self.download = False\n",
        "        self.imgC = n_channels\n",
        "        self.num_images = 20000\n",
        "        self.convert2bw = False\n",
        "\n",
        "args = Args()\n",
        "print(\"Loading data...\")\n",
        "train_dataset = custom_loaders.get_data_loader(args)"
      ]
    },
    {
      "cell_type": "code",
      "execution_count": 11,
      "metadata": {
        "id": "VJvKhz2Q0Xcv"
      },
      "outputs": [],
      "source": [
        "bs = 32\n",
        "train_loader = data_utils.DataLoader(train_dataset, batch_size=bs, shuffle=True)\n",
        "\n",
        "G = conv_layers.GeneratorTrans(channelsG).to(device)\n",
        "D = conv_layers.Discriminator(channelsD).to(device)\n",
        "# G = conv_layers.GeneratorUpSample(channelsG).to(device)\n",
        "\n",
        "criterion = nn.BCELoss()\n",
        "optimizerG = torch.optim.Adam(G.parameters(), lr=G_lr, betas=(0.5, 0.999))\n",
        "optimizerD = torch.optim.Adam(D.parameters(), lr=D_lr, betas=(0.5, 0.999))\n",
        "fixed_noise = torch.rand(bs,latent_len,1,1).to(device)"
      ]
    },
    {
      "cell_type": "code",
      "execution_count": null,
      "metadata": {
        "colab": {
          "base_uri": "https://localhost:8080/",
          "height": 211
        },
        "id": "ZHdQl7Hf0Xcv",
        "outputId": "7a059068-0f28-45d4-dd2e-6d39550780a4"
      },
      "outputs": [],
      "source": [
        "config={\"epochs\": epochs, \"batch_size\": bs,\n",
        "         \"D_epochs\": D_epochs, \"D_lr\": D_lr, \"G_lr\": G_lr,\n",
        "           \"img_size\": img_size, \"n_channels\": n_channels,\n",
        "           \"latent_len\": latent_len}\n",
        "\n",
        "wandb.init(project='pytorch-gan-celeba', entity='basujindal123', config=config)"
      ]
    },
    {
      "cell_type": "code",
      "execution_count": 12,
      "metadata": {
        "colab": {
          "base_uri": "https://localhost:8080/"
        },
        "id": "aQBCihzi0Xcv",
        "outputId": "a889d1f2-6bd4-4a55-cc0b-8a27f8a4b034"
      },
      "outputs": [
        {
          "name": "stderr",
          "output_type": "stream",
          "text": [
            "100%|██████████| 625/625 [00:15<00:00, 39.60it/s]\n",
            "100%|██████████| 625/625 [00:15<00:00, 40.71it/s]\n",
            "100%|██████████| 625/625 [00:15<00:00, 40.23it/s]\n",
            "100%|██████████| 625/625 [00:17<00:00, 35.09it/s]\n",
            "100%|██████████| 625/625 [00:18<00:00, 33.46it/s]\n",
            "100%|██████████| 625/625 [00:16<00:00, 36.97it/s]\n",
            "100%|██████████| 625/625 [00:16<00:00, 37.56it/s]\n",
            "100%|██████████| 625/625 [00:19<00:00, 32.37it/s]\n",
            "100%|██████████| 625/625 [00:18<00:00, 33.43it/s]\n",
            "100%|██████████| 625/625 [00:17<00:00, 35.56it/s]\n",
            "100%|██████████| 625/625 [00:15<00:00, 40.57it/s]\n",
            "100%|██████████| 625/625 [00:19<00:00, 32.63it/s]\n",
            "100%|██████████| 625/625 [00:15<00:00, 39.70it/s]\n",
            "100%|██████████| 625/625 [00:15<00:00, 40.68it/s]\n",
            "100%|██████████| 625/625 [00:15<00:00, 39.53it/s]\n",
            "100%|██████████| 625/625 [00:15<00:00, 39.84it/s]\n",
            "100%|██████████| 625/625 [00:18<00:00, 33.02it/s]\n",
            "100%|██████████| 625/625 [00:16<00:00, 36.79it/s]\n",
            "100%|██████████| 625/625 [00:17<00:00, 35.63it/s]\n",
            "100%|██████████| 625/625 [00:17<00:00, 34.90it/s]\n"
          ]
        }
      ],
      "source": [
        "log_iter = 200\n",
        "log = True\n",
        "\n",
        "lossD_Real = 0\n",
        "lossD_Fake = 0\n",
        "lossG = 0\n",
        "iter = 0\n",
        "\n",
        "\n",
        "for i in (range(epochs)):\n",
        "    for data in tqdm(train_loader):\n",
        "        real_imgs = data.to(device)\n",
        "\n",
        "        iter+=1\n",
        "        # Training Discriminator\n",
        "        D.zero_grad()\n",
        "\n",
        "        with torch.no_grad():\n",
        "            z = torch.rand(bs,latent_len,1,1).to(device)\n",
        "            fake_imgs = G(z)\n",
        "\n",
        "        output = D(fake_imgs).flatten()\n",
        "\n",
        "        label_val = 0\n",
        "        ## randomly flip labels\n",
        "        if label_flip and np.random.random() > 0.95:\n",
        "            label_val = 1\n",
        "\n",
        "        fake_labels = np.array([label_val]*output.shape[0])\n",
        "\n",
        "        if add_noise:\n",
        "            fake_labels = fake_labels + np.random.normal(0,0.05,fake_labels.shape[0])\n",
        "        labels = torch.tensor(fake_labels).float().to(device)\n",
        "        lossF = criterion(output, labels)\n",
        "        lossF.backward()\n",
        "\n",
        "        real_imgs = real_imgs.to(device)\n",
        "        output = D(real_imgs).flatten()\n",
        "\n",
        "        label_val = 1\n",
        "        ## randomly flip labels\n",
        "        if label_flip and np.random.random() > 0.95:\n",
        "            label_val = 0\n",
        "\n",
        "        real_labels = np.array([label_val]*output.shape[0])\n",
        "\n",
        "        if add_noise:\n",
        "            real_labels = real_labels + np.random.normal(0,0.05,real_labels.shape[0])\n",
        "        labels = torch.tensor(real_labels).float().to(device)\n",
        "        lossR = criterion(output, labels)\n",
        "        lossR.backward()\n",
        "\n",
        "\n",
        "        lossD = lossR + lossF\n",
        "        optimizerD.step()\n",
        "\n",
        "        lossD_Real+=lossR.item()\n",
        "        lossD_Fake+=lossF.item()\n",
        "\n",
        "        # if((iter+1)%D_epochs == 0):\n",
        "        if 1:\n",
        "            ## Training Generator\n",
        "            G.train()\n",
        "            optimizerG.zero_grad()\n",
        "            optimizerD.zero_grad()\n",
        "            z = torch.rand(bs,latent_len,1,1).to(device)\n",
        "            fake_imgs = G(z)\n",
        "            output = D(fake_imgs).flatten()\n",
        "\n",
        "            label = torch.tensor([1]*output.shape[0]).float().to(device)\n",
        "            lossG = criterion(output, label)\n",
        "            lossG.backward()\n",
        "            optimizerG.step()\n",
        "            lossG = lossG.item()\n",
        "\n",
        "\n",
        "        if((iter+1)%log_iter == 0 and log==True):\n",
        "\n",
        "            G.eval()\n",
        "            with torch.no_grad():\n",
        "                fixed_fake_imgs = G(fixed_noise[:16]).detach()\n",
        "\n",
        "            wandb.log({\n",
        "                'lossG': lossG,\n",
        "                'lossD_Real': lossD_Real,\n",
        "                'lossD_Fake': lossD_Fake,\n",
        "                'lossD': lossD_Real + lossD_Fake,\n",
        "                'Fake Images': [wandb.Image(i) for i in fixed_fake_imgs],\n",
        "                'Real Images' : [wandb.Image(i) for i in real_imgs[:16].detach()]\n",
        "                })\n",
        "\n",
        "            lossD_Real = 0\n",
        "            lossD_Fake = 0"
      ]
    }
  ],
  "metadata": {
    "accelerator": "GPU",
    "colab": {
      "provenance": []
    },
    "kernelspec": {
      "display_name": "Python 3",
      "name": "python3"
    },
    "language_info": {
      "codemirror_mode": {
        "name": "ipython",
        "version": 3
      },
      "file_extension": ".py",
      "mimetype": "text/x-python",
      "name": "python",
      "nbconvert_exporter": "python",
      "pygments_lexer": "ipython3",
      "version": "3.8.13"
    },
    "vscode": {
      "interpreter": {
        "hash": "9564eaee7b2d18fff668db0d56d5be435fa415a0b75ee906b58019918c1dc466"
      }
    }
  },
  "nbformat": 4,
  "nbformat_minor": 0
}
