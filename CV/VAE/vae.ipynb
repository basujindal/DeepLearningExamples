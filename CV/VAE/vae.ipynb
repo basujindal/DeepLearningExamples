{
  "cells": [
    {
      "cell_type": "code",
      "execution_count": 1,
      "metadata": {
        "id": "1YtOnVAl0Xcr"
      },
      "outputs": [],
      "source": [
        "import os\n",
        "import numpy as np\n",
        "import torch\n",
        "from tqdm import tqdm\n",
        "import torch.nn as nn\n",
        "import torch.utils.data as data_utils\n",
        "import wandb\n",
        "import sys\n",
        "sys.path.append(os.path.dirname(os.path.dirname(os.path.abspath(\"__file__\"))))\n",
        "sys.path.append(os.path.dirname(os.path.dirname(os.path.dirname(os.path.abspath(\"__file__\")))))\n",
        "import custom_loaders\n",
        "from conv_layers import UpTranspose2d, DownConv2d, UpTranspose2d, UpSampleConv\n",
        "from utils import count_parameters"
      ]
    },
    {
      "cell_type": "code",
      "execution_count": 88,
      "metadata": {},
      "outputs": [],
      "source": [
        "class DecoderTrans(nn.Module):\n",
        "\n",
        "    def __init__(self, channels, kernelSize=4):\n",
        "        super().__init__()\n",
        "\n",
        "        self.gen = nn.ModuleList([UpTranspose2d(channels[i], channels[i+1], kernelSize) for i in range(len(channels) - 2)])\n",
        "        self.output = nn.ConvTranspose2d(channels[-2], channels[-1], kernel_size=kernelSize, stride = 2, padding=(kernelSize//2 - 1))\n",
        "\n",
        "    def forward(self, image):\n",
        "            \n",
        "        for block in self.gen:\n",
        "            image = block(image)\n",
        "    \n",
        "        output = torch.tanh(self.output(image))\n",
        "        return output\n",
        "\n",
        "class DecoderUpSample(nn.Module):\n",
        "\n",
        "    def __init__(self, channels, kernelSize=3):\n",
        "        super().__init__()\n",
        "\n",
        "        self.gen = nn.ModuleList([UpSampleConv(channels[i], channels[i+1], kernelSize) for i in range(len(channels) - 2)])\n",
        "        self.upSample = nn.Upsample(scale_factor=2, mode='nearest') \n",
        "        self.output = nn.Conv2d(channels[-2], channels[-1], kernel_size=kernelSize, padding = (kernelSize-1)//2)\n",
        "\n",
        "\n",
        "    def forward(self, image):\n",
        "\n",
        "        for block in self.gen:\n",
        "            image = block(self.upSample(image))\n",
        "\n",
        "        output = torch.tanh(self.output(self.upSample(image)))\n",
        "        return output\n",
        "    \n",
        "class Encoder(nn.Module):\n",
        "\n",
        "    def __init__(self, channels, kernelSize=4):\n",
        "        super().__init__()\n",
        "\n",
        "        self.dis = nn.ModuleList([DownConv2d(channels[i], channels[i+1], kernelSize) for i in range(len(channels) - 2)])\n",
        "        self.out = nn.Conv2d(in_channels=channels[-2], out_channels=channels[-1], kernel_size=kernelSize, stride = 2, padding = kernelSize//2 - 1)\n",
        "\n",
        "    def forward(self, image):\n",
        "        \n",
        "        for block in self.dis:\n",
        "            image = block(image)\n",
        "        \n",
        "        out = self.out(image).squeeze(2).squeeze(2)\n",
        "        mean, logvar = out[:, :out.shape[1]//2], out[:, out.shape[1]//2:]\n",
        "        return mean, logvar\n",
        "    \n",
        "class VAE(nn.Module):\n",
        "    def __init__(self, channelsD, channelsE):\n",
        "        super(VAE, self).__init__()\n",
        "        self.encoder = Encoder(channelsE)\n",
        "        self.decoder = DecoderUpSample(channelsD)\n",
        "\n",
        "    def reparameterize(self, mu, logvar):\n",
        "\n",
        "        eps = torch.normal(mean = torch.zeros_like(mu), std= torch.ones_like(logvar))\n",
        "        return mu + eps * torch.exp(logvar * 0.5)\n",
        "\n",
        "\n",
        "    def forward(self, img):\n",
        "\n",
        "        mu, logvar = self.encoder(img)\n",
        "        z = self.reparameterize(mu, logvar).unsqueeze(2).unsqueeze(2)\n",
        "        return self.decoder(z), mu, logvar\n"
      ]
    },
    {
      "cell_type": "code",
      "execution_count": 89,
      "metadata": {
        "id": "7L_lY2s70Xct"
      },
      "outputs": [],
      "source": [
        "latent_len = 100\n",
        "img_size = 64\n",
        "n_channels = 3\n",
        "device = \"cuda\" if torch.cuda.is_available() else \"cpu\"\n",
        "channelsD = [latent_len, 256, 128, 128,64, 32, n_channels]\n",
        "channelsE = [n_channels, 32, 64, 128, 128,256, latent_len*2]\n",
        "\n",
        "lr = 0.001\n",
        "epochs = 20\n",
        "\n",
        "assert(len(channelsD) == len(channelsE))\n",
        "assert(img_size == 2**(len(channelsD) - 1))"
      ]
    },
    {
      "cell_type": "code",
      "execution_count": null,
      "metadata": {
        "colab": {
          "base_uri": "https://localhost:8080/"
        },
        "id": "RWU0-OD90Xcu",
        "outputId": "75ebe8f1-0f03-4660-8ce1-1d1a2c140b16"
      },
      "outputs": [],
      "source": [
        "class Args():\n",
        "    def __init__(self):\n",
        "        self.dataset = 'GAN'\n",
        "        self.imgPath = '../datasets/CelebA_train/img_align_celeba'\n",
        "        self.imgSize = img_size\n",
        "        self.download = False\n",
        "        self.imgC = n_channels\n",
        "        self.num_images = 5000\n",
        "        self.convert2bw = False\n",
        "\n",
        "args = Args()\n",
        "print(\"Loading data...\")\n",
        "train_dataset = custom_loaders.get_data_loader(args)"
      ]
    },
    {
      "cell_type": "code",
      "execution_count": 96,
      "metadata": {},
      "outputs": [
        {
          "name": "stdout",
          "output_type": "stream",
          "text": [
            "Total Trainable Params: 3.473291 M\n"
          ]
        },
        {
          "data": {
            "text/plain": [
              "3473291"
            ]
          },
          "execution_count": 96,
          "metadata": {},
          "output_type": "execute_result"
        }
      ],
      "source": [
        "vae = VAE(channelsD, channelsE).to(device)\n",
        "count_parameters(vae)"
      ]
    },
    {
      "cell_type": "code",
      "execution_count": 98,
      "metadata": {
        "id": "VJvKhz2Q0Xcv"
      },
      "outputs": [],
      "source": [
        "bs = 32\n",
        "train_loader = data_utils.DataLoader(train_dataset, batch_size=bs, shuffle=True)\n",
        "\n",
        "MSEloss = nn.MSELoss()\n",
        "\n",
        "optimizer = torch.optim.Adam(vae.parameters(), lr=lr, betas=(0.5, 0.999))\n",
        "fixed_noise = torch.rand(bs,latent_len,1,1).to(device)"
      ]
    },
    {
      "cell_type": "code",
      "execution_count": 99,
      "metadata": {
        "colab": {
          "base_uri": "https://localhost:8080/",
          "height": 211
        },
        "id": "ZHdQl7Hf0Xcv",
        "outputId": "7a059068-0f28-45d4-dd2e-6d39550780a4"
      },
      "outputs": [],
      "source": [
        "# config={\"epochs\": epochs, \"batch_size\": bs, \"lr\": lr,\n",
        "#            \"img_size\": img_size, \"n_channels\": n_channels,\n",
        "#            \"latent_len\": latent_len}\n",
        "\n",
        "# wandb.init(project='pytorch-gen-celeba', entity='basujindal123', config=config)"
      ]
    },
    {
      "cell_type": "code",
      "execution_count": 100,
      "metadata": {
        "colab": {
          "base_uri": "https://localhost:8080/"
        },
        "id": "aQBCihzi0Xcv",
        "outputId": "a889d1f2-6bd4-4a55-cc0b-8a27f8a4b034"
      },
      "outputs": [
        {
          "name": "stderr",
          "output_type": "stream",
          "text": [
            "100%|██████████| 16/16 [00:00<00:00, 127.98it/s]\n"
          ]
        },
        {
          "name": "stdout",
          "output_type": "stream",
          "text": [
            "tensor(0.1993, device='cuda:0', grad_fn=<MseLossBackward0>)\n"
          ]
        },
        {
          "name": "stderr",
          "output_type": "stream",
          "text": [
            "100%|██████████| 16/16 [00:00<00:00, 131.75it/s]\n"
          ]
        },
        {
          "name": "stdout",
          "output_type": "stream",
          "text": [
            "tensor(0.2049, device='cuda:0', grad_fn=<MseLossBackward0>)\n"
          ]
        },
        {
          "name": "stderr",
          "output_type": "stream",
          "text": [
            "100%|██████████| 16/16 [00:00<00:00, 129.47it/s]\n"
          ]
        },
        {
          "name": "stdout",
          "output_type": "stream",
          "text": [
            "tensor(0.1887, device='cuda:0', grad_fn=<MseLossBackward0>)\n"
          ]
        },
        {
          "name": "stderr",
          "output_type": "stream",
          "text": [
            "100%|██████████| 16/16 [00:00<00:00, 133.53it/s]\n"
          ]
        },
        {
          "name": "stdout",
          "output_type": "stream",
          "text": [
            "tensor(0.1517, device='cuda:0', grad_fn=<MseLossBackward0>)\n"
          ]
        },
        {
          "name": "stderr",
          "output_type": "stream",
          "text": [
            "100%|██████████| 16/16 [00:00<00:00, 132.66it/s]\n"
          ]
        },
        {
          "name": "stdout",
          "output_type": "stream",
          "text": [
            "tensor(0.1455, device='cuda:0', grad_fn=<MseLossBackward0>)\n"
          ]
        },
        {
          "name": "stderr",
          "output_type": "stream",
          "text": [
            "100%|██████████| 16/16 [00:00<00:00, 131.49it/s]\n"
          ]
        },
        {
          "name": "stdout",
          "output_type": "stream",
          "text": [
            "tensor(0.1356, device='cuda:0', grad_fn=<MseLossBackward0>)\n"
          ]
        },
        {
          "name": "stderr",
          "output_type": "stream",
          "text": [
            "100%|██████████| 16/16 [00:00<00:00, 134.21it/s]\n"
          ]
        },
        {
          "name": "stdout",
          "output_type": "stream",
          "text": [
            "tensor(0.1463, device='cuda:0', grad_fn=<MseLossBackward0>)\n"
          ]
        },
        {
          "name": "stderr",
          "output_type": "stream",
          "text": [
            "100%|██████████| 16/16 [00:00<00:00, 134.53it/s]\n"
          ]
        },
        {
          "name": "stdout",
          "output_type": "stream",
          "text": [
            "tensor(0.1443, device='cuda:0', grad_fn=<MseLossBackward0>)\n"
          ]
        },
        {
          "name": "stderr",
          "output_type": "stream",
          "text": [
            "100%|██████████| 16/16 [00:00<00:00, 133.51it/s]\n"
          ]
        },
        {
          "name": "stdout",
          "output_type": "stream",
          "text": [
            "tensor(0.1707, device='cuda:0', grad_fn=<MseLossBackward0>)\n"
          ]
        },
        {
          "name": "stderr",
          "output_type": "stream",
          "text": [
            "100%|██████████| 16/16 [00:00<00:00, 133.70it/s]\n"
          ]
        },
        {
          "name": "stdout",
          "output_type": "stream",
          "text": [
            "tensor(0.1497, device='cuda:0', grad_fn=<MseLossBackward0>)\n"
          ]
        },
        {
          "name": "stderr",
          "output_type": "stream",
          "text": [
            "100%|██████████| 16/16 [00:00<00:00, 133.82it/s]\n"
          ]
        },
        {
          "name": "stdout",
          "output_type": "stream",
          "text": [
            "tensor(0.1650, device='cuda:0', grad_fn=<MseLossBackward0>)\n"
          ]
        },
        {
          "name": "stderr",
          "output_type": "stream",
          "text": [
            "100%|██████████| 16/16 [00:00<00:00, 133.95it/s]\n"
          ]
        },
        {
          "name": "stdout",
          "output_type": "stream",
          "text": [
            "tensor(0.1254, device='cuda:0', grad_fn=<MseLossBackward0>)\n"
          ]
        },
        {
          "name": "stderr",
          "output_type": "stream",
          "text": [
            "100%|██████████| 16/16 [00:00<00:00, 134.37it/s]\n"
          ]
        },
        {
          "name": "stdout",
          "output_type": "stream",
          "text": [
            "tensor(0.1164, device='cuda:0', grad_fn=<MseLossBackward0>)\n"
          ]
        },
        {
          "name": "stderr",
          "output_type": "stream",
          "text": [
            "100%|██████████| 16/16 [00:00<00:00, 135.08it/s]\n"
          ]
        },
        {
          "name": "stdout",
          "output_type": "stream",
          "text": [
            "tensor(0.1246, device='cuda:0', grad_fn=<MseLossBackward0>)\n"
          ]
        },
        {
          "name": "stderr",
          "output_type": "stream",
          "text": [
            "100%|██████████| 16/16 [00:00<00:00, 134.78it/s]\n"
          ]
        },
        {
          "name": "stdout",
          "output_type": "stream",
          "text": [
            "tensor(0.1090, device='cuda:0', grad_fn=<MseLossBackward0>)\n"
          ]
        },
        {
          "name": "stderr",
          "output_type": "stream",
          "text": [
            "100%|██████████| 16/16 [00:00<00:00, 132.69it/s]\n"
          ]
        },
        {
          "name": "stdout",
          "output_type": "stream",
          "text": [
            "tensor(0.1264, device='cuda:0', grad_fn=<MseLossBackward0>)\n"
          ]
        },
        {
          "name": "stderr",
          "output_type": "stream",
          "text": [
            "100%|██████████| 16/16 [00:00<00:00, 134.93it/s]\n"
          ]
        },
        {
          "name": "stdout",
          "output_type": "stream",
          "text": [
            "tensor(0.1230, device='cuda:0', grad_fn=<MseLossBackward0>)\n"
          ]
        },
        {
          "name": "stderr",
          "output_type": "stream",
          "text": [
            "100%|██████████| 16/16 [00:00<00:00, 134.45it/s]\n"
          ]
        },
        {
          "name": "stdout",
          "output_type": "stream",
          "text": [
            "tensor(0.1105, device='cuda:0', grad_fn=<MseLossBackward0>)\n"
          ]
        },
        {
          "name": "stderr",
          "output_type": "stream",
          "text": [
            "100%|██████████| 16/16 [00:00<00:00, 134.46it/s]\n"
          ]
        },
        {
          "name": "stdout",
          "output_type": "stream",
          "text": [
            "tensor(0.1329, device='cuda:0', grad_fn=<MseLossBackward0>)\n"
          ]
        },
        {
          "name": "stderr",
          "output_type": "stream",
          "text": [
            "100%|██████████| 16/16 [00:00<00:00, 135.28it/s]"
          ]
        },
        {
          "name": "stdout",
          "output_type": "stream",
          "text": [
            "tensor(0.1218, device='cuda:0', grad_fn=<MseLossBackward0>)\n"
          ]
        },
        {
          "name": "stderr",
          "output_type": "stream",
          "text": [
            "\n"
          ]
        }
      ],
      "source": [
        "log_iter = 200\n",
        "log = True\n",
        "\n",
        "lossKL = 0\n",
        "lossMSE = 0\n",
        "iter = 0\n",
        "\n",
        "\n",
        "for i in (range(epochs)):\n",
        "    for data in tqdm(train_loader):\n",
        "        imgs = data.to(device)\n",
        "\n",
        "        iter+=1\n",
        "        # Training Discriminator\n",
        "        vae.zero_grad()\n",
        "\n",
        "        recon_imgs, mu, logvar = vae(imgs)\n",
        "\n",
        "        loss = MSEloss(imgs, recon_imgs)\n",
        "\n",
        "        loss.backward()\n",
        "\n",
        "        optimizer.step()\n",
        "\n",
        "        lossMSE += loss.item()\n",
        "    print(loss)\n",
        "\n",
        "        # if((iter+1)%log_iter == 0 and log==True):\n",
        "\n",
        "        #     vae.eval()\n",
        "        #     with torch.no_grad():\n",
        "        #         fixed_fake_imgs = vae.decoder(fixed_noise[:16]).detach()\n",
        "\n",
        "        #     # wandb.log({\n",
        "        #     #     'lossMSE': lossMSE,\n",
        "        #     #     'lossKL': lossKL,\n",
        "        #     #     'Fake Images': [wandb.Image(i) for i in fixed_fake_imgs],\n",
        "        #     #     'Real Images' : [wandb.Image(i) for i in real_imgs[:16].detach()]\n",
        "        #     #     })\n",
        "\n",
        "        #     lossKL = 0\n",
        "        #     lossMSE = 0"
      ]
    },
    {
      "cell_type": "code",
      "execution_count": null,
      "metadata": {},
      "outputs": [],
      "source": []
    }
  ],
  "metadata": {
    "accelerator": "GPU",
    "colab": {
      "provenance": []
    },
    "kernelspec": {
      "display_name": "Python 3",
      "name": "python3"
    },
    "language_info": {
      "codemirror_mode": {
        "name": "ipython",
        "version": 3
      },
      "file_extension": ".py",
      "mimetype": "text/x-python",
      "name": "python",
      "nbconvert_exporter": "python",
      "pygments_lexer": "ipython3",
      "version": "3.8.16"
    },
    "vscode": {
      "interpreter": {
        "hash": "9564eaee7b2d18fff668db0d56d5be435fa415a0b75ee906b58019918c1dc466"
      }
    }
  },
  "nbformat": 4,
  "nbformat_minor": 0
}
